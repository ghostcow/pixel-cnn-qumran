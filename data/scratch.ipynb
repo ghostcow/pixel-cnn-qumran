{
 "cells": [
  {
   "cell_type": "code",
   "execution_count": 54,
   "metadata": {
    "collapsed": false
   },
   "outputs": [],
   "source": [
    "import numpy as np\n",
    "import os\n",
    "import matplotlib.pyplot as plt\n",
    "import scipy.misc as sm\n",
    "data_dir = '/home/lioruzan/pixel-cnn/data/letters_data'\n",
    "import pickle as pkl\n",
    "\n",
    "with open(os.path.join(data_dir,'letters_test.pkl'),'rb') as f:\n",
    "    test_letters= pkl.load(f)"
   ]
  },
  {
   "cell_type": "code",
   "execution_count": 20,
   "metadata": {
    "collapsed": false
   },
   "outputs": [
    {
     "data": {
      "text/plain": [
       "147"
      ]
     },
     "execution_count": 20,
     "metadata": {},
     "output_type": "execute_result"
    }
   ],
   "source": [
    "len(test_letters['masks'])"
   ]
  },
  {
   "cell_type": "code",
   "execution_count": 55,
   "metadata": {
    "collapsed": false
   },
   "outputs": [],
   "source": [
    "from scipy.ndimage import measurements as me\n",
    "rotations = np.zeros(len(test_letters['masks']))\n",
    "c=0\n",
    "for m in test_letters['masks']:\n",
    "    m = m[:,:,0]\n",
    "    xm,ym = me.center_of_mass(m)\n",
    "    m[int(xm),int(ym)] = 0\n",
    "    xm,ym=int(xm)//16,int(ym)//16\n",
    "    if xm==0 and ym==0:\n",
    "        rotations[c] = 0\n",
    "    if xm==0 and ym==1:\n",
    "        rotations[c] = 1\n",
    "    if xm==1 and ym==1:\n",
    "        rotations[c] = 2\n",
    "    if xm==1 and ym==0:\n",
    "        rotations[c] = 3\n",
    "#     plt.imshow(m*255)\n",
    "#     plt.show()\n",
    "#     plt.imshow(np.rot90(m,k=rotations[c]))\n",
    "#     plt.show()\n",
    "#     print(xm,ym)\n",
    "    c += 1\n"
   ]
  },
  {
   "cell_type": "code",
   "execution_count": 56,
   "metadata": {
    "collapsed": true
   },
   "outputs": [],
   "source": [
    "test_letters['labels'] = rotations\n",
    "with open(os.path.join(data_dir,'letters_test.pkl'),'wb') as f:\n",
    "    pkl.dump(test_letters, f)"
   ]
  },
  {
   "cell_type": "code",
   "execution_count": 66,
   "metadata": {
    "collapsed": false
   },
   "outputs": [
    {
     "name": "stdout",
     "output_type": "stream",
     "text": [
      "4\n",
      "1\n",
      "2\n",
      "0\n"
     ]
    }
   ],
   "source": [
    "print((rotations==0).sum()%32)\n",
    "print((rotations==1).sum()%20)\n",
    "print((rotations==2).sum()%4)\n",
    "print((rotations==3).sum()%12)\n"
   ]
  },
  {
   "cell_type": "code",
   "execution_count": 3,
   "metadata": {
    "collapsed": true
   },
   "outputs": [],
   "source": [
    "for m in test_letters['masks']:\n",
    "    sm.imshow(m*255)\n",
    "    break"
   ]
  },
  {
   "cell_type": "code",
   "execution_count": 28,
   "metadata": {
    "collapsed": false
   },
   "outputs": [
    {
     "name": "stdout",
     "output_type": "stream",
     "text": [
      "[ 192.  167.    3.] [ 47.07156859  29.70098797   0.        ]\n"
     ]
    }
   ],
   "source": [
    "''' MAKE IMAGES '''\n",
    "import scipy.misc as sm\n",
    "import numpy as np\n",
    "\n",
    "imgs = [sm.imread(file,mode='RGB') for file in file_list]\n",
    "\n",
    "# resized_imgs = [sm.imresize(im,(32,32)) for im in imgs]\n",
    "\n",
    "# resized_imgs = [im[np.newaxis,:,:,:] for im in resized_imgs]\n",
    "# images = np.vstack(resized_imgs)\n",
    "# labels = np.array(label_list)"
   ]
  },
  {
   "cell_type": "code",
   "execution_count": 29,
   "metadata": {
    "collapsed": false
   },
   "outputs": [
    {
     "name": "stdout",
     "output_type": "stream",
     "text": [
      "[ 192.  167.    3.] [ 208.19724556  168.49743231    3.        ] [ 47.07156859  29.70098797   0.        ]\n"
     ]
    }
   ],
   "source": [
    "''' IMAGE STATS '''\n",
    "shapes=[o.shape for o in imgs]\n",
    "print(np.median(shapes, axis=0), np.mean(shapes, axis=0), np.std(shapes, axis=0))\n",
    "print(np.max(shapes,axis=0),np.min(shapes,axis=0))\n",
    "print(np.argmax(shapes, axis=0), np.argmin(shapes,axis=0))"
   ]
  }
 ],
 "metadata": {
  "anaconda-cloud": {},
  "kernelspec": {
   "display_name": "Python 3",
   "language": "python",
   "name": "python3"
  },
  "language_info": {
   "codemirror_mode": {
    "name": "ipython",
    "version": 3
   },
   "file_extension": ".py",
   "mimetype": "text/x-python",
   "name": "python",
   "nbconvert_exporter": "python",
   "pygments_lexer": "ipython3",
   "version": "3.6.0"
  }
 },
 "nbformat": 4,
 "nbformat_minor": 2
}
