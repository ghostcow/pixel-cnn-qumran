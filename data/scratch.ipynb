{
 "cells": [
  {
   "cell_type": "code",
   "execution_count": 3,
   "metadata": {
    "collapsed": false
   },
   "outputs": [
    {
     "name": "stdout",
     "output_type": "stream",
     "text": [
      "(5412, 7216)\n"
     ]
    }
   ],
   "source": [
    "import numpy as np\n",
    "import os\n",
    "import matplotlib.pyplot as plt\n",
    "from scipy import ndimage as ndi\n",
    "from skimage import feature\n",
    "import scipy.misc as sm\n",
    "\n",
    "\n",
    "# Generate noisy image of a square\n",
    "root = '/home/lioruzan/pixel-cnn/data'\n",
    "imname = 'P976-Fg001-R-C01-R02-D04082013-T145409-LR924 _012_mask.jpg'\n",
    "\n",
    "img = sm.imread(os.path.join(root,imname))\n",
    "kernel = np.ones((5,5),np.uint8)\n",
    "im = cv2.morphologyEx(img, cv2.MORPH_OPEN, kernel)\n",
    "\n",
    "# Compute the Canny filter\n",
    "edges = feature.canny(im, sigma=3)\n",
    "print(edges.shape)"
   ]
  },
  {
   "cell_type": "code",
   "execution_count": 9,
   "metadata": {
    "collapsed": false
   },
   "outputs": [
    {
     "name": "stdout",
     "output_type": "stream",
     "text": [
      "(array([  0,   0,   0, ..., 383, 383, 383]), array([359, 360, 361, ..., 381, 382, 383]))\n"
     ]
    }
   ],
   "source": [
    "mask = 255-patch\n",
    "yy, xx = mask.nonzero()\n",
    "\n",
    "\n",
    "\n",
    "\n",
    "\n",
    "\n",
    "\n",
    "def generate_samples_mask(sess, X, h, pred, mask, init, conf, suff):\n",
    "    print \"Generating Sample Images...\"\n",
    "    n_row, n_col = 3, 9\n",
    "\n",
    "    samples = np.zeros((n_row*n_col, conf.img_height, conf.img_width, conf.channel), dtype=np.float32)\n",
    "    samples += init\n",
    "    labels = one_hot(np.arange(conf.num_classes), conf.num_classes)\n",
    "\n",
    "    for i in xrange(conf.img_height):\n",
    "        for j in xrange(conf.img_width):\n",
    "            data_dict = {X:samples}\n",
    "            if conf.conditional is True:\n",
    "                data_dict[h] = labels\n",
    "            next_sample = sess.run(pred, feed_dict=data_dict)\n",
    "            samples[:, i, j, :] = next_sample[:, i, j, :]*(1-mask[:,i,j,:]) + samples[:,i,j,:]*(mask[:,i,j,:])\n",
    "\n",
    "    save_images(samples, n_row, n_col, conf, suff)\n",
    "\n",
    "\n",
    "\n",
    "\n",
    "\n",
    "\n",
    "\n",
    "# sample from the model\n",
    "new_x_gen = []\n",
    "for i in range(args.nr_gpu):\n",
    "    with tf.device('/gpu:%d' % i):\n",
    "        gen_par = model(xs[i], h_sample[i], ema=ema, dropout_p=0, **model_opt)\n",
    "        new_x_gen.append(nn.sample_from_discretized_mix_logistic(gen_par, args.nr_logistic_mix))\n",
    "def sample_from_model(sess):\n",
    "    x_gen = [samples[i] for i in range(args.nr_gpu)]\n",
    "    for yi in range(obs_shape[0]):\n",
    "        for xi in range(obs_shape[1]):\n",
    "            new_x_gen_np = sess.run(new_x_gen, {xs[i]: x_gen[i] for i in range(args.nr_gpu)})\n",
    "            for i in range(args.nr_gpu):\n",
    "                x_gen[i][:,yi,xi,:] = new_x_gen_np[i][:,yi,xi,:]*(1-masks[:,yi,xi,:])+x_gen[i][:,yi,xi,:]*masks[:,yi,xi,:]\n",
    "    return np.concatenate(x_gen, axis=0)\n",
    "\n",
    "\n",
    "\n",
    "# train for one epoch\n",
    "train_losses = []\n",
    "for d in tqdm(train_data):\n",
    "    feed_dict = make_feed_dict(d)\n",
    "    # forward/backward/update model on each gpu\n",
    "    lr *= args.lr_decay\n",
    "    feed_dict.update({ tf_lr: lr })\n",
    "    l,_ = sess.run([bits_per_dim, optimizer], feed_dict)\n",
    "    train_losses.append(l)\n",
    "train_loss_gen = np.mean(train_losses)\n",
    "\n",
    "# compute likelihood over test data\n",
    "test_losses = []\n",
    "for d in test_data:\n",
    "    feed_dict = make_feed_dict(d)\n",
    "    l = sess.run(bits_per_dim_test, feed_dict)\n",
    "    test_losses.append(l)\n",
    "test_loss_gen = np.mean(test_losses)\n",
    "test_bpd.append(test_loss_gen)\n",
    "\n",
    "# log progress to console\n",
    "print(\"Iteration %d, time = %ds, train bits_per_dim = %.4f, test bits_per_dim = %.4f\" % (epoch, time.time()-begin, train_loss_gen, test_loss_gen))\n",
    "sys.stdout.flush()\n",
    "\n",
    "if epoch % args.save_interval == 0:\n",
    "\n",
    "    \n",
    "    for d in test_data:\n",
    "        feed_dict = make_feed_dict(d)\n",
    "        l = sess.run(bits_per_dim_test, feed_dict)\n",
    "        test_losses.append(l)\n",
    "    \n",
    "    # generate samples from the model\n",
    "    sample_x = sample_from_model(sess)\n",
    "    img_tile = plotting.img_tile(sample_x[:int(np.floor(np.sqrt(args.batch_size*args.nr_gpu))**2)], aspect_ratio=1.0, border_color=1.0, stretch=True)\n",
    "    img = plotting.plot_img(img_tile, title=args.data_set + ' samples')\n",
    "    plotting.plt.savefig(os.path.join(args.save_dir,'%s_sample%d.png' % (args.data_set, epoch)))\n",
    "    plotting.plt.close('all')\n",
    "\n"
   ]
  },
  {
   "cell_type": "code",
   "execution_count": 4,
   "metadata": {
    "collapsed": false
   },
   "outputs": [
    {
     "name": "stderr",
     "output_type": "stream",
     "text": [
      "/home/lioruzan/anaconda3/lib/python3.5/site-packages/ipykernel/__main__.py:12: VisibleDeprecationWarning: using a non-integer number instead of an integer will result in an error in the future\n"
     ]
    }
   ],
   "source": [
    "import cv2\n",
    " \n",
    "t=384\n",
    "x,y = np.nonzero(edges)\n",
    "\n",
    "for c in range(20):\n",
    "    c = np.random.randint(len(x))\n",
    "    i, j = x[c], y[c]\n",
    "    while i<t/2 or i>=edges.shape[0]-t/2 or j<t/2 or j>=edges.shape[1]-t/2:\n",
    "        c = np.random.randint(len(x))\n",
    "        i,j = x[c], y[c]\n",
    "    patch = im[i-t/2:i+t/2,j-t/2:j+t/2]\n",
    "    sm.imshow(patch)"
   ]
  },
  {
   "cell_type": "code",
   "execution_count": null,
   "metadata": {
    "collapsed": true
   },
   "outputs": [],
   "source": [
    "import matplotlib\n",
    "import numpy as np\n",
    "import scipy.misc as sm\n",
    "import matplotlib.pyplot as plt\n",
    "\n",
    "im = sm.face()\n",
    "mask = np.ones_like(im)\n",
    "print(im.shape)\n",
    "\n",
    "\n",
    "def generate_samples_mask(sess, X, h, pred, mask, init, conf, suff):\n",
    "    n_row, n_col = 3, 9\n",
    "    samples = np.zeros((n_row*n_col, conf.img_height, conf.img_width, conf.channel), dtype=np.float32)\n",
    "    samples += init\n",
    "    labels = one_hot(np.arange(conf.num_classes), conf.num_classes)\n",
    "\n",
    "    for i in xrange(conf.img_height):\n",
    "        for j in xrange(conf.img_width):\n",
    "            for k in xrange(conf.channel):\n",
    "                data_dict = {X:samples}\n",
    "                if conf.conditional is True:\n",
    "                    data_dict[h] = labels\n",
    "                next_sample = sess.run(pred, feed_dict=data_dict)\n",
    "                if conf.data == \"mnist\" or conf.data == 'letters':\n",
    "                    next_sample = binarize(next_sample)\n",
    "                samples[:, i, j, k] = next_sample[:, i, j, k]*mask[i,j,k] + init[i,j,k]*(1-mask[i,j,k])"
   ]
  }
 ],
 "metadata": {
  "anaconda-cloud": {},
  "kernelspec": {
   "display_name": "Python [conda root]",
   "language": "python",
   "name": "conda-root-py"
  },
  "language_info": {
   "codemirror_mode": {
    "name": "ipython",
    "version": 3
   },
   "file_extension": ".py",
   "mimetype": "text/x-python",
   "name": "python",
   "nbconvert_exporter": "python",
   "pygments_lexer": "ipython3",
   "version": "3.5.2"
  }
 },
 "nbformat": 4,
 "nbformat_minor": 2
}
