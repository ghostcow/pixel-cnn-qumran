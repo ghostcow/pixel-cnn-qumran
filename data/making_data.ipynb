{
 "cells": [
  {
   "cell_type": "code",
   "execution_count": 3,
   "metadata": {
    "collapsed": true
   },
   "outputs": [],
   "source": [
    "''' PARSE DATA '''\n",
    "import pandas as pd\n",
    "import os\n",
    "\n",
    "labels_csv = os.path.join('letters_data', 'labels.csv')\n",
    "df = pd.read_csv(labels_csv, encoding='ISO-8859-8', header=None)\n",
    "df = df.applymap(str.strip)\n",
    "\n",
    "# clean data\n",
    "doubles = df.applymap(lambda x: True if len(x)>1 and x.find('!') == -1 else False)[1]\n",
    "X       = df.applymap(lambda x: True if x == 'X' else False)[1]\n",
    "\n",
    "df = df[~doubles & ~X].reset_index(drop=True)\n",
    "\n",
    "# label fix ש -> ה\n",
    "df.iloc[3659][1]='ה!'\n",
    "\n",
    "root = 'letters_data'\n",
    "file_list = []\n",
    "label_list = []\n",
    "for _,y in df.iterrows():\n",
    "    file_list.append(os.path.join(root,y[0][1:].replace('\\\\','/')))\n",
    "    label_list.append(y[1])\n",
    "\n",
    "l = sorted(list(set(label_list)))\n",
    "label_to_idx = {}\n",
    "for i,j in enumerate(l):\n",
    "    label_to_idx[j] = i\n",
    "label_list = [label_to_idx[s] for s in label_list]"
   ]
  },
  {
   "cell_type": "code",
   "execution_count": 4,
   "metadata": {
    "collapsed": false
   },
   "outputs": [],
   "source": [
    "''' MAKE IMAGES '''\n",
    "import scipy.misc as sm\n",
    "import numpy as np\n",
    "\n",
    "imgs = [sm.imread(file,mode='RGB') for file in file_list]\n",
    "resized_imgs = [sm.imresize(im,(32,32)) for im in imgs]\n",
    "\n",
    "resized_imgs = [im[np.newaxis,:,:,:] for im in resized_imgs]\n",
    "images = np.vstack(resized_imgs)\n",
    "labels = np.array(label_list)"
   ]
  },
  {
   "cell_type": "code",
   "execution_count": 5,
   "metadata": {
    "collapsed": true
   },
   "outputs": [],
   "source": [
    "p = np.random.permutation(images.shape[0])\n",
    "images = images[p]\n",
    "labels = labels[p]\n",
    "\n",
    "test         = images[:100]\n",
    "test_labels  = labels[:100]\n",
    "train        = images[100:]\n",
    "train_labels = labels[100:]"
   ]
  },
  {
   "cell_type": "code",
   "execution_count": 12,
   "metadata": {
    "collapsed": false
   },
   "outputs": [],
   "source": [
    "''' MAKE MASKS '''\n",
    "import os\n",
    "import matplotlib.pyplot as plt\n",
    "from skimage import feature\n",
    "import scipy.misc as sm\n",
    "import cv2\n",
    "data_dir = '/home/lioruzan/pixel-cnn/data/letters_data'\n",
    "\n",
    "def get_edges(imname):\n",
    "    img = sm.imread(os.path.join(data_dir,imname))\n",
    "    kernel = np.ones((5,5),np.uint8)\n",
    "    im = cv2.morphologyEx(img, cv2.MORPH_OPEN, kernel)\n",
    "    # Compute the Canny filter\n",
    "    edges = feature.canny(im, sigma=3)\n",
    "    #print(edges.shape)\n",
    "    return edges\n",
    "\n",
    "def get_masks(template_name, curset, t):\n",
    "    edges    = get_edges(template_name)\n",
    "    template = sm.imread(template_name)\n",
    "    x,y = np.nonzero(edges)\n",
    "    masks = np.zeros_like(curset)\n",
    "    for c in range(curset.shape[0]):\n",
    "        cc = np.random.randint(len(x))\n",
    "        i, j = x[cc], y[cc]\n",
    "        while i<t/2 or i>=edges.shape[0]-t/2 or j<t/2 or j>=edges.shape[1]-t/2:\n",
    "            cc = np.random.randint(len(x))\n",
    "            i,j = x[cc], y[cc]\n",
    "        patch = template[ i-t//2:i+t//2, j-t//2:j+t//2 ]\n",
    "        patch = sm.imresize(patch, (32,32))[:,:,np.newaxis]\n",
    "        masks[c] = patch\n",
    "    return masks"
   ]
  },
  {
   "cell_type": "code",
   "execution_count": 13,
   "metadata": {
    "collapsed": false
   },
   "outputs": [],
   "source": [
    "t=256  \n",
    "train_masks = get_masks(os.path.join(data_dir,'P976-Fg001-R-C01-R02-D04082013-T145409-LR924 _012_mask.jpg'), \n",
    "                        train, t)\n",
    "test_masks  = get_masks(os.path.join(data_dir,'P976-Fg004-R-C01-R02-D04082013-T143613-LR924 _012_mask.jpg'), \n",
    "                        test, t)"
   ]
  },
  {
   "cell_type": "code",
   "execution_count": 15,
   "metadata": {
    "collapsed": true
   },
   "outputs": [],
   "source": [
    "sm.imshow(test_masks[7])"
   ]
  },
  {
   "cell_type": "code",
   "execution_count": 16,
   "metadata": {
    "collapsed": true
   },
   "outputs": [],
   "source": [
    "import pickle as pkl\n",
    "\n",
    "with open(os.path.join(data_dir,'letters_train.pkl'),'wb') as f:\n",
    "    pkl.dump({'data':train,'labels':train_labels,'masks':train_masks},f)\n",
    "with open(os.path.join(data_dir,'letters_test.pkl'),'wb') as f:\n",
    "    pkl.dump({'data':test,'labels':test_labels,'masks':test_masks},f)"
   ]
  }
 ],
 "metadata": {
  "anaconda-cloud": {},
  "kernelspec": {
   "display_name": "Python [conda root]",
   "language": "python",
   "name": "conda-root-py"
  },
  "language_info": {
   "codemirror_mode": {
    "name": "ipython",
    "version": 3
   },
   "file_extension": ".py",
   "mimetype": "text/x-python",
   "name": "python",
   "nbconvert_exporter": "python",
   "pygments_lexer": "ipython3",
   "version": "3.5.2"
  }
 },
 "nbformat": 4,
 "nbformat_minor": 2
}
