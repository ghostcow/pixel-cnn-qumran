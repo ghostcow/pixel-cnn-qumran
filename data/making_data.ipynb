{
 "cells": [
  {
   "cell_type": "code",
   "execution_count": 2,
   "metadata": {
    "collapsed": true
   },
   "outputs": [],
   "source": [
    "''' PARSE DATA '''\n",
    "import pandas as pd\n",
    "import os\n",
    "\n",
    "labels_csv = os.path.join('letters_data', 'labels.csv')\n",
    "df = pd.read_csv(labels_csv, encoding='ISO-8859-8', header=None)\n",
    "df = df.applymap(str.strip)\n",
    "\n",
    "# clean data\n",
    "doubles = df.applymap(lambda x: True if len(x)>1 and x.find('!') == -1 else False)[1]\n",
    "X       = df.applymap(lambda x: True if x == 'X' else False)[1]\n",
    "\n",
    "df = df[~doubles & ~X].reset_index(drop=True)\n",
    "\n",
    "# label fix ש -> ה\n",
    "df.iloc[3659][1]='ה!'\n",
    "\n",
    "root = 'letters_data'\n",
    "file_list = []\n",
    "label_list = []\n",
    "for _,y in df.iterrows():\n",
    "    file_list.append(os.path.join(root,y[0][1:].replace('\\\\','/')))\n",
    "    label_list.append(y[1])\n",
    "\n",
    "l = sorted(list(set(label_list)))\n",
    "label_to_idx = {}\n",
    "for i,j in enumerate(l):\n",
    "    label_to_idx[j] = i\n",
    "label_list = [label_to_idx[s] for s in label_list]"
   ]
  },
  {
   "cell_type": "code",
   "execution_count": 4,
   "metadata": {},
   "outputs": [],
   "source": [
    "''' MAKE IMAGE TENSOR '''\n",
    "import scipy.misc as sm\n",
    "import numpy as np\n",
    "\n",
    "def parse_resize(imgs, s=32):\n",
    "    img_rsz = np.zeros((len(imgs),s,s,3), dtype=np.uint8)\n",
    "    c=s//2\n",
    "    for j,im in enumerate(imgs):\n",
    "        h,w = im.shape[0],im.shape[1]\n",
    "        if h>s:\n",
    "            ar = s/h\n",
    "            im = sm.imresize(im, ar, interp='bicubic')\n",
    "            h, w = im.shape[0], im.shape[1]\n",
    "        if w>s:\n",
    "            ar = s/w\n",
    "            im = sm.imresize(im,ar,interp='bicubic')\n",
    "            h, w = im.shape[0], im.shape[1]\n",
    "        img_rsz[j,(c-h//2):(c+h//2+h%2),(c-w//2):(c+w//2+w%2),:]=im\n",
    "    return img_rsz\n",
    "\n",
    "imgs = [sm.imread(file,mode='RGB') for file in file_list]\n",
    "images = parse_resize(imgs)\n",
    "labels = np.array(label_list)"
   ]
  },
  {
   "cell_type": "code",
   "execution_count": 5,
   "metadata": {},
   "outputs": [
    {
     "name": "stdout",
     "output_type": "stream",
     "text": [
      "[ 192.  167.    3.] [ 208.19724556  168.49743231    3.        ] [ 47.07156859  29.70098797   0.        ]\n",
      "[346 231   3] [143 111   3]\n",
      "[947  86   0] [1566  952    0]\n"
     ]
    }
   ],
   "source": [
    "''' IMAGE STATS '''\n",
    "shapes=[o.shape for o in imgs]\n",
    "print(np.median(shapes, axis=0), np.mean(shapes, axis=0), np.std(shapes, axis=0))\n",
    "print(np.max(shapes,axis=0),np.min(shapes,axis=0))\n",
    "print(np.argmax(shapes, axis=0), np.argmin(shapes,axis=0))"
   ]
  },
  {
   "cell_type": "code",
   "execution_count": 7,
   "metadata": {},
   "outputs": [],
   "source": [
    "l = len(file_list)\n",
    "train_idx = np.array([j for j in range(l) if file_list[j].find('candidates_38')==-1 and file_list[j].find('candidates_39')==-1])\n",
    "test_idx = np.array([j for j in range(l) if file_list[j].find('candidates_38')!=-1 or file_list[j].find('candidates_39')!=-1])\n",
    "\n",
    "test_images  = images[test_idx]\n",
    "test_labels  = labels[test_idx]\n",
    "train_images = images[train_idx]\n",
    "train_labels = labels[train_idx]"
   ]
  },
  {
   "cell_type": "code",
   "execution_count": 8,
   "metadata": {},
   "outputs": [],
   "source": [
    "''' MAKE MASKS '''\n",
    "import os\n",
    "import matplotlib.pyplot as plt\n",
    "from skimage import feature\n",
    "import scipy.misc as sm\n",
    "import cv2\n",
    "data_dir = '/home/lioruzan/pixel-cnn/data/letters_data'\n",
    "\n",
    "def get_edges(imname):\n",
    "    img = sm.imread(os.path.join(data_dir,imname))\n",
    "    kernel = np.ones((5,5),np.uint8)\n",
    "    im = cv2.morphologyEx(img, cv2.MORPH_OPEN, kernel)\n",
    "    # Compute the Canny filter\n",
    "    edges = feature.canny(im, sigma=3)\n",
    "    #print(edges.shape)\n",
    "    return edges\n",
    "\n",
    "def get_masks(template_name, curset, t):\n",
    "    edges    = get_edges(template_name)\n",
    "    template = sm.imread(template_name)\n",
    "    x,y = np.nonzero(edges)\n",
    "    masks = np.zeros_like(curset)\n",
    "    for c in range(curset.shape[0]):\n",
    "        cc = np.random.randint(len(x))\n",
    "        i, j = x[cc], y[cc]\n",
    "        while i<t/2 or i>=edges.shape[0]-t/2 or j<t/2 or j>=edges.shape[1]-t/2:\n",
    "            cc = np.random.randint(len(x))\n",
    "            i,j = x[cc], y[cc]\n",
    "        patch = template[ i-t//2:i+t//2, j-t//2:j+t//2 ]\n",
    "        patch = sm.imresize(patch, (32,32))[:,:,np.newaxis]\n",
    "        masks[c] = patch\n",
    "    return masks//255"
   ]
  },
  {
   "cell_type": "code",
   "execution_count": 9,
   "metadata": {},
   "outputs": [],
   "source": [
    "t=256  \n",
    "train_masks = get_masks(os.path.join(data_dir,'P976-Fg001-R-C01-R02-D04082013-T145409-LR924 _012_mask.jpg'), \n",
    "                        train_images, t)\n",
    "test_masks  = get_masks(os.path.join(data_dir,'P976-Fg004-R-C01-R02-D04082013-T143613-LR924 _012_mask.jpg'), \n",
    "                        test_images, t)"
   ]
  },
  {
   "cell_type": "code",
   "execution_count": 10,
   "metadata": {
    "collapsed": true
   },
   "outputs": [],
   "source": [
    "sm.imshow(test_masks[9]*255)"
   ]
  },
  {
   "cell_type": "code",
   "execution_count": 11,
   "metadata": {
    "collapsed": true
   },
   "outputs": [],
   "source": [
    "import pickle as pkl\n",
    "\n",
    "with open(os.path.join(data_dir,'letters_train.pkl'),'wb') as f:\n",
    "    pkl.dump({'data':train_images,'labels':train_labels,'masks':train_masks},f)\n",
    "with open(os.path.join(data_dir,'letters_test.pkl'),'wb') as f:\n",
    "    pkl.dump({'data':test_images,'labels':test_labels,'masks':test_masks},f)"
   ]
  },
  {
   "cell_type": "code",
   "execution_count": null,
   "metadata": {
    "collapsed": true
   },
   "outputs": [],
   "source": [
    "import numpy as np\n",
    "import os\n",
    "import matplotlib.pyplot as plt\n",
    "import scipy.misc as sm\n",
    "data_dir = '/home/lioruzan/pixel-cnn/data/letters_data'\n",
    "import pickle as pkl\n",
    "\n",
    "with open(os.path.join(data_dir,'letters_test.pkl'),'rb') as f:\n",
    "    test_letters= pkl.load(f)\n",
    "\n",
    "''' update labels to be correct rotations for test time '''\n",
    "from scipy.ndimage import measurements as me\n",
    "rotations = np.zeros(len(test_letters['masks']))\n",
    "c=0\n",
    "for m in test_letters['masks']:\n",
    "    m = m[:,:,0]\n",
    "    xm,ym = me.center_of_mass(m)\n",
    "    xm,ym=int(xm)//16,int(ym)//16\n",
    "    if xm==0 and ym==0:\n",
    "        rotations[c] = 0\n",
    "    if xm==0 and ym==1:\n",
    "        rotations[c] = 1\n",
    "    if xm==1 and ym==1:\n",
    "        rotations[c] = 2\n",
    "    if xm==1 and ym==0:\n",
    "        rotations[c] = 3\n",
    "    c += 1\n",
    "\n",
    "test_letters['labels'] = rotations\n",
    "with open(os.path.join(data_dir,'letters_test.pkl'),'wb') as f:\n",
    "    pkl.dump(test_letters, f)\n"
   ]
  },
  {
   "cell_type": "code",
   "execution_count": null,
   "metadata": {
    "collapsed": true
   },
   "outputs": [],
   "source": [
    "''' figure out batch size that minimizes loss of test samples '''\n",
    "print((rotations==0).sum()%32)\n",
    "print((rotations==1).sum()%20)\n",
    "print((rotations==2).sum()%4)\n",
    "print((rotations==3).sum()%12)"
   ]
  },
  {
   "cell_type": "code",
   "execution_count": 10,
   "metadata": {
    "collapsed": true
   },
   "outputs": [],
   "source": [
    "''' modify letters_train.pkl to remove labels '''\n",
    "import numpy as np\n",
    "import os\n",
    "import matplotlib.pyplot as plt\n",
    "import scipy.misc as sm\n",
    "data_dir = '/home/lioruzan/pixel-cnn/data/letters_data'\n",
    "import pickle as pkl\n",
    "\n",
    "with open(os.path.join(data_dir,'letters_train.pkl'),'rb') as f:\n",
    "    train_letters= pkl.load(f)\n",
    "\n",
    "train_letters['labels']=None\n",
    "\n",
    "with open(os.path.join(data_dir,'letters_train.pkl'),'wb') as f:\n",
    "    pkl.dump(train_letters,f)"
   ]
  },
  {
   "cell_type": "code",
   "execution_count": 1,
   "metadata": {
    "collapsed": true
   },
   "outputs": [],
   "source": [
    "''' modify letters_test.pkl to remove labels '''\n",
    "import numpy as np\n",
    "import os\n",
    "import matplotlib.pyplot as plt\n",
    "import scipy.misc as sm\n",
    "data_dir = '/home/lioruzan/pixel-cnn/data/letters_data'\n",
    "import pickle as pkl\n",
    "\n",
    "with open(os.path.join(data_dir,'letters_test.pkl'),'rb') as f:\n",
    "    test_letters= pkl.load(f)\n",
    "\n",
    "test_letters['labels']=None\n",
    "\n",
    "with open(os.path.join(data_dir,'letters_test.pkl'),'wb') as f:\n",
    "    pkl.dump(test_letters,f)"
   ]
  },
  {
   "cell_type": "markdown",
   "metadata": {},
   "source": [
    "# VERSION 2"
   ]
  },
  {
   "cell_type": "code",
   "execution_count": null,
   "metadata": {
    "collapsed": true
   },
   "outputs": [],
   "source": [
    "''' PARSE DATA '''\n",
    "import pandas as pd\n",
    "import os\n",
    "root = '/home/lioruzan/letters_to_classify_v2/'\n",
    "\n",
    "labels_csv = os.path.join(os.path.join('all.csv'))\n",
    "df = pd.read_csv(labels_csv, encoding='ISO-8859-8', header=None)\n",
    "\n",
    "# clean data\n",
    "X       = df.applymap(lambda x: True if x == 'back' else False)[1]\n",
    "\n",
    "df = df[~X].reset_index(drop=True)\n",
    "\n",
    "ones = df.applymap(lambda x: True if x=='1' else False)[1]\n",
    "zeros = df.applymap(lambda x: True if x=='0' else False)[1]\n",
    "\n",
    "\n",
    "file_list = []\n",
    "label_list = []\n",
    "for _,y in df.iterrows():\n",
    "    file_list.append(os.path.join(root,y[0]).strip())\n",
    "    label_list.append(y[1])\n",
    "\n",
    "zeros_ind = [i for i in range(len(label_list)) if int(label_list[i])==0 ]\n",
    "ones_ind = [i for i in range(len(label_list)) if int(label_list[i])==1 ]\n",
    "\n",
    "zeros_files = [file_list[i] for i in zeros_ind]\n",
    "ones_files = [file_list[i] for i in ones_ind]\n",
    "\n",
    "import matplotlib.pyplot as plt\n",
    "%matplotlib inline\n",
    "import numpy as np\n",
    "inds = np.random.permutation(len(ones_files))\n",
    "for j in inds[:10]:\n",
    "    cur = ones_files[j]\n",
    "    im = plt.imread(cur)\n",
    "    plt.imshow(im)\n",
    "    plt.show()\n",
    "\n",
    "len(ones_ind)"
   ]
  }
 ],
 "metadata": {
  "anaconda-cloud": {},
  "kernelspec": {
   "display_name": "Python 3",
   "language": "python",
   "name": "python3"
  },
  "language_info": {
   "codemirror_mode": {
    "name": "ipython",
    "version": 3
   },
   "file_extension": ".py",
   "mimetype": "text/x-python",
   "name": "python",
   "nbconvert_exporter": "python",
   "pygments_lexer": "ipython3",
   "version": "3.6.2"
  }
 },
 "nbformat": 4,
 "nbformat_minor": 2
}
