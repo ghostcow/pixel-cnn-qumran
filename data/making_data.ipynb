{
 "cells": [
  {
   "cell_type": "code",
   "execution_count": 32,
   "metadata": {
    "collapsed": false
   },
   "outputs": [],
   "source": [
    "root='/home/lioruzan/word_spotting/comp/Segmentation-based_Dataset/Cand3'\n",
    "data_dir = '/home/lioruzan/pixel-cnn/data/'"
   ]
  },
  {
   "cell_type": "code",
   "execution_count": 8,
   "metadata": {
    "collapsed": false
   },
   "outputs": [],
   "source": [
    "import glob\n",
    "flist = [name for name in glob.glob(root+'/*/*.jpg')]\n",
    "    "
   ]
  },
  {
   "cell_type": "code",
   "execution_count": 14,
   "metadata": {
    "collapsed": false
   },
   "outputs": [],
   "source": [
    "import scipy.misc as sm\n",
    "imgs = [sm.imread(file,mode='RGB') for file in flist]"
   ]
  },
  {
   "cell_type": "code",
   "execution_count": 18,
   "metadata": {
    "collapsed": false
   },
   "outputs": [],
   "source": [
    "resized_imgs = [sm.imresize(im,(32,32)) for im in imgs]"
   ]
  },
  {
   "cell_type": "code",
   "execution_count": 21,
   "metadata": {
    "collapsed": false
   },
   "outputs": [],
   "source": [
    "import numpy as np\n",
    "resized_imgs = [im[np.newaxis,:,:,:] for im in resized_imgs]\n",
    "images = np.vstack(resized_imgs)"
   ]
  },
  {
   "cell_type": "code",
   "execution_count": 30,
   "metadata": {
    "collapsed": false
   },
   "outputs": [],
   "source": [
    "p = np.random.permutation(images.shape[0])\n",
    "images = images[p]\n",
    "test = images[:200]\n",
    "train = images[200:]"
   ]
  },
  {
   "cell_type": "code",
   "execution_count": 37,
   "metadata": {
    "collapsed": false
   },
   "outputs": [],
   "source": [
    "import pickle as pkl\n",
    "import os\n",
    "with open(os.path.join(data_dir,'letters_train.pkl'),'wb') as f:\n",
    "    pkl.dump({'data':train,'labels':None},f)\n",
    "with open(os.path.join(data_dir,'letters_test.pkl'),'wb') as f:\n",
    "    pkl.dump({'data':test,'labels':None},f)"
   ]
  }
 ],
 "metadata": {
  "anaconda-cloud": {},
  "kernelspec": {
   "display_name": "Python [conda root]",
   "language": "python",
   "name": "conda-root-py"
  },
  "language_info": {
   "codemirror_mode": {
    "name": "ipython",
    "version": 3
   },
   "file_extension": ".py",
   "mimetype": "text/x-python",
   "name": "python",
   "nbconvert_exporter": "python",
   "pygments_lexer": "ipython3",
   "version": "3.5.2"
  }
 },
 "nbformat": 4,
 "nbformat_minor": 2
}
