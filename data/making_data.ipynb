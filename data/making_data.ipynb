{
 "cells": [
  {
   "cell_type": "code",
   "execution_count": 6,
   "metadata": {
    "collapsed": false
   },
   "outputs": [],
   "source": [
    "root = '/home/lioruzan/word_spotting/comp/Segmentation-based_Dataset/Cand3'\n",
    "data_dir = '/home/lioruzan/pixel-cnn/data'"
   ]
  },
  {
   "cell_type": "code",
   "execution_count": 7,
   "metadata": {
    "collapsed": false
   },
   "outputs": [],
   "source": [
    "import glob\n",
    "flist = [name for name in glob.glob(root+'/*/*.jpg')]\n",
    "    "
   ]
  },
  {
   "cell_type": "code",
   "execution_count": 8,
   "metadata": {
    "collapsed": false
   },
   "outputs": [],
   "source": [
    "import scipy.misc as sm\n",
    "imgs = [sm.imread(file,mode='RGB') for file in flist]"
   ]
  },
  {
   "cell_type": "code",
   "execution_count": 9,
   "metadata": {
    "collapsed": false
   },
   "outputs": [],
   "source": [
    "resized_imgs = [sm.imresize(im,(32,32)) for im in imgs]"
   ]
  },
  {
   "cell_type": "code",
   "execution_count": 10,
   "metadata": {
    "collapsed": false
   },
   "outputs": [],
   "source": [
    "import numpy as np\n",
    "resized_imgs = [im[np.newaxis,:,:,:] for im in resized_imgs]\n",
    "images = np.vstack(resized_imgs)"
   ]
  },
  {
   "cell_type": "code",
   "execution_count": 11,
   "metadata": {
    "collapsed": false
   },
   "outputs": [],
   "source": [
    "p = np.random.permutation(images.shape[0])\n",
    "images = images[p]\n",
    "test = images[:200]\n",
    "train = images[200:]"
   ]
  },
  {
   "cell_type": "code",
   "execution_count": 20,
   "metadata": {
    "collapsed": false
   },
   "outputs": [],
   "source": [
    "import numpy as np\n",
    "import os\n",
    "import matplotlib.pyplot as plt\n",
    "from scipy import ndimage as ndi\n",
    "from skimage import feature\n",
    "import scipy.misc as sm\n",
    "import cv2\n",
    "\n",
    "def get_edges(imname):\n",
    "    root = '/home/lioruzan/pixel-cnn/data'\n",
    "    img = sm.imread(os.path.join(root,imname))\n",
    "    kernel = np.ones((5,5),np.uint8)\n",
    "    im = cv2.morphologyEx(img, cv2.MORPH_OPEN, kernel)\n",
    "    # Compute the Canny filter\n",
    "    edges = feature.canny(im, sigma=3)\n",
    "    #print(edges.shape)\n",
    "    return edges\n",
    "    "
   ]
  },
  {
   "cell_type": "code",
   "execution_count": 21,
   "metadata": {
    "collapsed": false
   },
   "outputs": [
    {
     "name": "stderr",
     "output_type": "stream",
     "text": [
      "/home/lioruzan/anaconda3/lib/python3.5/site-packages/ipykernel/__main__.py:14: VisibleDeprecationWarning: using a non-integer number instead of an integer will result in an error in the future\n"
     ]
    }
   ],
   "source": [
    "t=384\n",
    "masklist = []\n",
    "for imgname, curset in [('P976-Fg001-R-C01-R02-D04082013-T145409-LR924 _012_mask.jpg', train),\n",
    "                        ('P976-Fg004-R-C01-R02-D04082013-T143613-LR924 _012_mask.jpg', test)]:\n",
    "    edges = get_edges(imname)\n",
    "    x,y = np.nonzero(edges)\n",
    "    masks = np.zeros_like(curset)\n",
    "    for c in range(curset.shape[0]):\n",
    "        cc = np.random.randint(len(x))\n",
    "        i, j = x[cc], y[cc]\n",
    "        while i<t/2 or i>=edges.shape[0]-t/2 or j<t/2 or j>=edges.shape[1]-t/2:\n",
    "            cc = np.random.randint(len(x))\n",
    "            i,j = x[cc], y[cc]\n",
    "        patch = im[i-t/2:i+t/2,j-t/2:j+t/2]\n",
    "        patch = sm.imresize(patch, (32,32))[:,:,np.newaxis]\n",
    "        masks[c] = patch\n",
    "        #sm.imshow(patch)\n",
    "    masklist.append(masks)\n",
    "    \n",
    "train_masks = masklist[0]\n",
    "test_masks  = masklist[1]"
   ]
  },
  {
   "cell_type": "code",
   "execution_count": 23,
   "metadata": {
    "collapsed": false
   },
   "outputs": [],
   "source": [
    "# sm.imshow(test_masks[3])"
   ]
  },
  {
   "cell_type": "code",
   "execution_count": 24,
   "metadata": {
    "collapsed": false
   },
   "outputs": [],
   "source": [
    "import pickle as pkl\n",
    "import os\n",
    "with open(os.path.join(data_dir,'letters_train.pkl'),'wb') as f:\n",
    "    pkl.dump({'data':train,'labels':None,'masks':train_masks},f)\n",
    "with open(os.path.join(data_dir,'letters_test.pkl'),'wb') as f:\n",
    "    pkl.dump({'data':test,'labels':None,'masks':test_masks},f)"
   ]
  }
 ],
 "metadata": {
  "anaconda-cloud": {},
  "kernelspec": {
   "display_name": "Python [conda root]",
   "language": "python",
   "name": "conda-root-py"
  },
  "language_info": {
   "codemirror_mode": {
    "name": "ipython",
    "version": 3
   },
   "file_extension": ".py",
   "mimetype": "text/x-python",
   "name": "python",
   "nbconvert_exporter": "python",
   "pygments_lexer": "ipython3",
   "version": "3.5.2"
  }
 },
 "nbformat": 4,
 "nbformat_minor": 2
}
