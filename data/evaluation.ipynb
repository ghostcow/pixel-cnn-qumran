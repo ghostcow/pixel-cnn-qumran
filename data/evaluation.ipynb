{
 "cells": [
  {
   "cell_type": "code",
   "execution_count": null,
   "metadata": {
    "collapsed": true
   },
   "outputs": [],
   "source": [
    "import pickle as pkl\n",
    "import numpy as np\n",
    "import os\n",
    "\n",
    "root = '/home/lioruzan/latest_checkpoints'\n",
    "runs = [[] for j in range(8)]\n",
    "for i in range(8):\n",
    "    if i==6: continue # nothing \n",
    "    r = os.path.join(root,'dir%d'%i)\n",
    "    for j in range(20):\n",
    "        p = os.path.join(r,'results_{}.pkl'.format(j))\n",
    "        with open(p,'rb') as f:\n",
    "            runs[i].append(pkl.load(f))"
   ]
  },
  {
   "cell_type": "code",
   "execution_count": null,
   "metadata": {
    "collapsed": true
   },
   "outputs": [],
   "source": [
    "# format of pickled files: {'gen_data': ( sample_x, x, m, sample_prob, colored_x ), 'size': size}\n",
    "samps = []\n",
    "datas = []\n",
    "masks = []\n",
    "colrs = []\n",
    "probs = []\n",
    "# collect generates samples from all 8 models for each experiment (20 total)\n",
    "for j in range(20):\n",
    "    samp = np.zeros((0,32,32,1),dtype=np.float32)\n",
    "    data = samp.copy()\n",
    "    mask = samp.copy().astype(np.int32)\n",
    "    colr = np.zeros((0,32,32,3),dtype=np.float32)\n",
    "    prob = np.zeros(len(data), dtype=np.float32)\n",
    "    for i in range(8):\n",
    "        if i==6: continue\n",
    "        gen_data = runs[i][j]['gen_data']\n",
    "        cutoff = runs[i][j]['size']\n",
    "        total = len(gen_data) * len(gen_data[0][0])\n",
    "        e = total-cutoff\n",
    "        c = 1\n",
    "        for sample_x, x, m, sample_prob, colored_x in gen_data:\n",
    "            if c == len(gen_data):\n",
    "                sample_x = sample_x[:-e]\n",
    "                x = x[:-e]\n",
    "                m = m[:-e]\n",
    "                colored_x = colored_x[:-e]\n",
    "                sample_prob = sample_prob[:-e]\n",
    "            samp = np.vstack([samp, sample_x])\n",
    "            data = np.vstack([data, x])\n",
    "            mask = np.vstack([mask, m])\n",
    "            colr = np.vstack([colr, colored_x])\n",
    "            prob = np.concatenate([prob, sample_prob])\n",
    "            c += 1\n",
    "    samps.append(samp)\n",
    "    datas.append(data)\n",
    "    masks.append(mask)\n",
    "    colrs.append(colr)\n",
    "    probs.append(prob)"
   ]
  },
  {
   "cell_type": "code",
   "execution_count": null,
   "metadata": {
    "collapsed": true
   },
   "outputs": [],
   "source": [
    "average_psnrs=[]\n",
    "std_psnrs=[]\n",
    "for run in range(20):\n",
    "    # calculate mean average psnr\n",
    "    mses = []\n",
    "    sample_x = samps[run]\n",
    "    x = datas[run]\n",
    "    # calculate per-picture psnr vectorized\n",
    "    #change to 0..255\n",
    "    a = np.round(127.5 * sample_x + 127.5)\n",
    "    b = x\n",
    "    mse = np.sum( np.power(a-b,2), axis=(1,2,3) ) / np.prod( a.shape[1:] ) # ignore batch size\n",
    "    \n",
    "    # discard all samples from padding\n",
    "    \n",
    "    psnrs = 20 * ( np.log10(255) - np.log10( np.sqrt(mse) ) )\n",
    "    psnr_avg, psnr_std = np.mean(psnrs), np.std(psnrs)\n",
    "    print(\"average psnr run {}: {}, std: {}\".format(run, psnr_avg, psnr_std))\n",
    "    average_psnrs.append(psnr_avg)\n",
    "    std_psnrs.append(psnr_std)\n",
    "    \n",
    "# show stats summary\n",
    "if len(average_psnrs)>0:\n",
    "    print(\"mean average psnr: {}, std over averages: {}, mean psnr std: {}, std over stds: {}\".format(\n",
    "            np.mean(average_psnrs), np.std(average_psnrs),\n",
    "            np.mean(std_psnrs), np.std(std_psnrs)))"
   ]
  },
  {
   "cell_type": "code",
   "execution_count": 1,
   "metadata": {
    "collapsed": true
   },
   "outputs": [],
   "source": [
    "''' OLD VERSION '''\n",
    "import pickle as pkl\n",
    "import numpy as np\n",
    "import os.path as osp\n",
    "import os\n",
    "\n",
    "''' stitch together 4-model adaptive rotation results '''\n",
    "\n",
    "root = '/home/lioruzan/checkpoints'\n",
    "runs= [[] for j in range(4)]\n",
    "for i in range(4):\n",
    "    r = os.path.join(root,str(i))\n",
    "    for j in range(10):\n",
    "        p = os.path.join(r,'results_{}.pkl'.format(j))\n",
    "        with open(p,'rb') as f:\n",
    "            runs[i].append(pkl.load(f))\n",
    "            \n",
    "\n",
    "runss=[]\n",
    "for j in range(10):\n",
    "    samp=np.zeros((0,32,32,3))\n",
    "    data=samp.copy()\n",
    "    mask=data.copy()\n",
    "    for i in range(4):\n",
    "        for sample,(x,m) in runs[i][j]:\n",
    "            sample = np.rot90(sample, k=-i, axes=(1,2))\n",
    "            x = np.rot90(x, k=-i, axes=(1,2))\n",
    "            m = np.rot90(m, k=-i, axes=(1,2))\n",
    "            samp = np.vstack([samp,sample])\n",
    "            data = np.vstack([data,x])\n",
    "            mask = np.vstack([mask,m])\n",
    "    runss.append((samp,data,mask))\n"
   ]
  },
  {
   "cell_type": "code",
   "execution_count": 4,
   "metadata": {
    "collapsed": false
   },
   "outputs": [
    {
     "name": "stdout",
     "output_type": "stream",
     "text": [
      "13.317 +-4.3397\n"
     ]
    }
   ],
   "source": [
    "\n",
    "''' calculate mean average psnr (+- mean average std)'''\n",
    "average_psnrs, std_psnrs = [], []\n",
    "for o, data, _ in runss:\n",
    "    psnrs=[]\n",
    "    for i in range(o.shape[0]):\n",
    "        #change to 0..255\n",
    "        x = np.round(127.5 * o[i] + 127.5)\n",
    "        y = data[i]\n",
    "        #mse\n",
    "        mse = np.sum( np.power(x-y,2) ) / np.prod( x.shape )\n",
    "        #psnr\n",
    "        psnr = 20 * ( np.log10(255) - np.log10(np.sqrt(mse)) )\n",
    "        psnrs.append(psnr)\n",
    "        \n",
    "    psnr_avg, psnr_std = np.mean(psnrs), np.std(psnrs)\n",
    "    average_psnrs.append(psnr_avg)\n",
    "    std_psnrs.append(psnr_std)\n",
    "print('{:.5} +-{:.5}'.format(np.mean(average_psnrs), np.mean(std_psnrs)))\n"
   ]
  },
  {
   "cell_type": "code",
   "execution_count": null,
   "metadata": {
    "collapsed": true
   },
   "outputs": [],
   "source": [
    "\n",
    "''' visualize results '''\n",
    "p=np.random.randint(140)\n",
    "plt.imshow(runss[0][1][p]/127.5-1)\n",
    "plt.show()\n",
    "plt.imshow((runss[0][1][p]/127.5-1)*runss[0][2][p])\n",
    "plt.show()\n",
    "plt.imshow(runss[0][0][p])\n",
    "plt.show()"
   ]
  }
 ],
 "metadata": {
  "kernelspec": {
   "display_name": "Python 3",
   "language": "python",
   "name": "python3"
  },
  "language_info": {
   "codemirror_mode": {
    "name": "ipython",
    "version": 3
   },
   "file_extension": ".py",
   "mimetype": "text/x-python",
   "name": "python",
   "nbconvert_exporter": "python",
   "pygments_lexer": "ipython3",
   "version": "3.6.0"
  }
 },
 "nbformat": 4,
 "nbformat_minor": 2
}
