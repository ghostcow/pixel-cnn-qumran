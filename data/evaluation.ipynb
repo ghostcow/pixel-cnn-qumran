{
 "cells": [
  {
   "cell_type": "code",
   "execution_count": 1,
   "metadata": {
    "collapsed": true
   },
   "outputs": [],
   "source": [
    "import pickle as pkl\n",
    "import numpy as np\n",
    "import os.path as osp\n",
    "import os"
   ]
  },
  {
   "cell_type": "code",
   "execution_count": 3,
   "metadata": {
    "collapsed": false
   },
   "outputs": [],
   "source": [
    "''' stitch together 4-model adaptive rotation results '''\n",
    "\n",
    "root = '/home/lioruzan/checkpoints'\n",
    "runs= [[] for j in range(4)]\n",
    "for i in range(4):\n",
    "    r = os.path.join(root,str(i))\n",
    "    for j in range(10):\n",
    "        p = os.path.join(r,'results_{}.pkl'.format(j))\n",
    "        with open(p,'rb') as f:\n",
    "            runs[i].append(pkl.load(f))\n",
    "            \n",
    "\n",
    "runss=[]\n",
    "for j in range(10):\n",
    "    samp=np.zeros((0,32,32,3))\n",
    "    data=samp.copy()\n",
    "    mask=data.copy()\n",
    "    for i in range(4):\n",
    "        for sample,(x,m) in runs[i][j]:\n",
    "            sample = np.rot90(sample, k=-i, axes=(1,2))\n",
    "            x = np.rot90(x, k=-i, axes=(1,2))\n",
    "            m = np.rot90(m, k=-i, axes=(1,2))\n",
    "            samp = np.vstack([samp,sample])\n",
    "            data = np.vstack([data,x])\n",
    "            mask = np.vstack([mask,m])\n",
    "    runss.append((samp,data,mask))\n"
   ]
  },
  {
   "cell_type": "code",
   "execution_count": 4,
   "metadata": {
    "collapsed": false
   },
   "outputs": [
    {
     "name": "stdout",
     "output_type": "stream",
     "text": [
      "13.317 +-4.3397\n"
     ]
    }
   ],
   "source": [
    "\n",
    "''' calculate mean average psnr (+- mean average std)'''\n",
    "average_psnrs, std_psnrs = [], []\n",
    "for o, data, _ in runss:\n",
    "    psnrs=[]\n",
    "    for i in range(o.shape[0]):\n",
    "        #change to 0..255\n",
    "        x = np.round(127.5 * o[i] + 127.5)\n",
    "        y = data[i]\n",
    "        #mse\n",
    "        mse = np.sum( np.power(x-y,2) ) / np.prod( x.shape )\n",
    "        #psnr\n",
    "        psnr = 20 * ( np.log10(255) - np.log10(np.sqrt(mse)) )\n",
    "        psnrs.append(psnr)\n",
    "        \n",
    "    psnr_avg, psnr_std = np.mean(psnrs), np.std(psnrs)\n",
    "    average_psnrs.append(psnr_avg)\n",
    "    std_psnrs.append(psnr_std)\n",
    "print('{:.5} +-{:.5}'.format(np.mean(average_psnrs), np.mean(std_psnrs)))\n"
   ]
  },
  {
   "cell_type": "code",
   "execution_count": null,
   "metadata": {
    "collapsed": true
   },
   "outputs": [],
   "source": [
    "\n",
    "''' visualize results '''\n",
    "p=np.random.randint(140)\n",
    "plt.imshow(runss[0][1][p]/127.5-1)\n",
    "plt.show()\n",
    "plt.imshow((runss[0][1][p]/127.5-1)*runss[0][2][p])\n",
    "plt.show()\n",
    "plt.imshow(runss[0][0][p])\n",
    "plt.show()"
   ]
  }
 ],
 "metadata": {
  "kernelspec": {
   "display_name": "Python 3",
   "language": "python",
   "name": "python3"
  },
  "language_info": {
   "codemirror_mode": {
    "name": "ipython",
    "version": 3
   },
   "file_extension": ".py",
   "mimetype": "text/x-python",
   "name": "python",
   "nbconvert_exporter": "python",
   "pygments_lexer": "ipython3",
   "version": "3.6.0"
  }
 },
 "nbformat": 4,
 "nbformat_minor": 2
}
